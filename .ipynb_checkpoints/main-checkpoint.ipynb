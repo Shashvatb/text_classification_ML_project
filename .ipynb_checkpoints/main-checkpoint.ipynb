{
 "cells": [
  {
   "cell_type": "code",
   "execution_count": 1,
   "id": "3c74da58",
   "metadata": {},
   "outputs": [
    {
     "name": "stderr",
     "output_type": "stream",
     "text": [
      "2023-04-26 19:16:25.454565: I tensorflow/core/platform/cpu_feature_guard.cc:193] This TensorFlow binary is optimized with oneAPI Deep Neural Network Library (oneDNN) to use the following CPU instructions in performance-critical operations:  AVX2 FMA\n",
      "To enable them in other operations, rebuild TensorFlow with the appropriate compiler flags.\n",
      "2023-04-26 19:16:34.916301: W tensorflow/compiler/xla/stream_executor/platform/default/dso_loader.cc:64] Could not load dynamic library 'libnvinfer.so.7'; dlerror: libnvinfer.so.7: cannot open shared object file: No such file or directory\n",
      "2023-04-26 19:16:34.916545: W tensorflow/compiler/xla/stream_executor/platform/default/dso_loader.cc:64] Could not load dynamic library 'libnvinfer_plugin.so.7'; dlerror: libnvinfer_plugin.so.7: cannot open shared object file: No such file or directory\n",
      "2023-04-26 19:16:34.916555: W tensorflow/compiler/tf2tensorrt/utils/py_utils.cc:38] TF-TRT Warning: Cannot dlopen some TensorRT libraries. If you would like to use Nvidia GPU with TensorRT, please make sure the missing libraries mentioned above are installed properly.\n",
      "2023-04-26 19:16:41.503146: I tensorflow/compiler/xla/stream_executor/cuda/cuda_gpu_executor.cc:967] could not open file to read NUMA node: /sys/bus/pci/devices/0000:01:00.0/numa_node\n",
      "Your kernel may have been built without NUMA support.\n",
      "2023-04-26 19:16:41.504315: W tensorflow/compiler/xla/stream_executor/platform/default/dso_loader.cc:64] Could not load dynamic library 'libcufft.so.10'; dlerror: libcufft.so.10: cannot open shared object file: No such file or directory\n",
      "2023-04-26 19:16:41.504648: W tensorflow/compiler/xla/stream_executor/platform/default/dso_loader.cc:64] Could not load dynamic library 'libcurand.so.10'; dlerror: libcurand.so.10: cannot open shared object file: No such file or directory\n",
      "2023-04-26 19:16:41.504892: W tensorflow/compiler/xla/stream_executor/platform/default/dso_loader.cc:64] Could not load dynamic library 'libcusolver.so.11'; dlerror: libcusolver.so.11: cannot open shared object file: No such file or directory\n",
      "2023-04-26 19:16:41.505088: W tensorflow/compiler/xla/stream_executor/platform/default/dso_loader.cc:64] Could not load dynamic library 'libcusparse.so.11'; dlerror: libcusparse.so.11: cannot open shared object file: No such file or directory\n",
      "2023-04-26 19:16:41.505320: W tensorflow/core/common_runtime/gpu/gpu_device.cc:1934] Cannot dlopen some GPU libraries. Please make sure the missing libraries mentioned above are installed properly if you would like to use GPU. Follow the guide at https://www.tensorflow.org/install/gpu for how to download and setup the required libraries for your platform.\n",
      "Skipping registering GPU devices...\n"
     ]
    }
   ],
   "source": [
    "# Import statement\n",
    "from sklearn.datasets import fetch_20newsgroups\n",
    "from sklearn.feature_extraction.text import CountVectorizer\n",
    "from sklearn.model_selection import train_test_split\n",
    "from spacy.lang.en.stop_words import STOP_WORDS\n",
    "from spacy.lang.en import English\n",
    "import re\n",
    "\n",
    "from tqdm import tqdm\n",
    "import os\n",
    "import numpy as np\n",
    "\n",
    "import matplotlib.pyplot as plt\n",
    "\n",
    "import torch\n",
    "import torch.nn as nn\n",
    "import torch.nn.functional as F\n",
    "from torch.utils.data import DataLoader, Dataset"
   ]
  },
  {
   "cell_type": "code",
   "execution_count": 2,
   "id": "6f8fc874",
   "metadata": {},
   "outputs": [],
   "source": [
    "# Load data\n",
    "newsgroups_train = fetch_20newsgroups(subset='all', shuffle=True)\n",
    "X_train = newsgroups_train.data\n",
    "y_train = newsgroups_train.target"
   ]
  },
  {
   "cell_type": "code",
   "execution_count": 3,
   "id": "fe00a7ec",
   "metadata": {},
   "outputs": [],
   "source": [
    "# Cleaning the data\n",
    "all_punctuations = '''!()-[]{};:'\"\\,<>./?@#$%^&*_~'''\n",
    "all_punctuations = [token for token in all_punctuations]\n",
    "STOP_WORDS = list(STOP_WORDS) + all_punctuations + ['\\n', '<UNK>', '<ALPHANUM>', '<NUM>']\n",
    "nlp = English()\n",
    "tokenizer = nlp.tokenizer\n",
    "X_train = [[token.text.lower() for token in tokenizer(doc)] for doc in X_train]\n",
    "\n",
    "# Replacing different kinds of tokens with appropriate tokens\n",
    "for i, doc in enumerate(X_train):\n",
    "    for j, token in enumerate(doc):\n",
    "        # legal alphabetic tokens\n",
    "        if token.isalpha():\n",
    "            doc[j] = token\n",
    "        # replace numbers with <NUM>\n",
    "        elif token.isnumeric():\n",
    "            doc[j] = '<NUM>'\n",
    "        # replace alphanumeric tokens with <ALPHANUM>\n",
    "        elif token.isalnum():\n",
    "            doc[j] = '<ALPHANUM>'\n",
    "        # if punctuation\n",
    "        elif token in all_punctuations:\n",
    "            doc[j] = token\n",
    "        # anything else, replace with <UNK>\n",
    "        else:\n",
    "            doc[j] = '<UNK>'\n",
    "    X_train[i] = ' '.join([j.lower() for j in doc if j not in STOP_WORDS])\n",
    "    X_train[i] = re.sub(r'\\s+', ' ', X_train[i])\n"
   ]
  },
  {
   "cell_type": "code",
   "execution_count": 4,
   "id": "700112ea",
   "metadata": {},
   "outputs": [
    {
     "name": "stdout",
     "output_type": "stream",
     "text": [
      "11307 3769 3770\n"
     ]
    }
   ],
   "source": [
    "# Split training data into train, validation and test data\n",
    "X_train, X_val, y_train, y_val = train_test_split(X_train, y_train, test_size=0.4)\n",
    "X_val, X_test, y_val, y_test = train_test_split(X_val, y_val, test_size=0.5)\n",
    "print(len(X_train), len(X_val), len(X_test))"
   ]
  },
  {
   "cell_type": "code",
   "execution_count": 5,
   "id": "3a9774fb",
   "metadata": {},
   "outputs": [],
   "source": [
    "# declaring a model\n",
    "\n",
    "class Model(nn.Module):\n",
    "    def __init__(self, vocab_size, num_labels=20):\n",
    "        super(Model, self).__init__()\n",
    "        self.vocab_size = vocab_size\n",
    "        self.num_labels = num_labels\n",
    "        self.lin1 = nn.Linear(vocab_size, 2048)\n",
    "        self.final = nn.Linear(2048, num_labels)\n",
    "    def forward(self, x):\n",
    "        x = F.relu(self.lin1(x))\n",
    "        return F.softmax(self.final(x))"
   ]
  },
  {
   "cell_type": "code",
   "execution_count": 6,
   "id": "716ec251",
   "metadata": {},
   "outputs": [
    {
     "name": "stdout",
     "output_type": "stream",
     "text": [
      "20\n"
     ]
    }
   ],
   "source": [
    "# Get the total number of labels in the data\n",
    "num_labels = len(set(y_train))\n",
    "print(num_labels)"
   ]
  },
  {
   "cell_type": "code",
   "execution_count": 7,
   "id": "0cf698dc",
   "metadata": {},
   "outputs": [
    {
     "name": "stdout",
     "output_type": "stream",
     "text": [
      "(11307, 10000) (3769, 10000) (3770, 10000)\n"
     ]
    }
   ],
   "source": [
    "# creat BoW Vectorizer\n",
    "vectorizer = CountVectorizer(stop_words='english', max_features=10000)\n",
    "X_train = vectorizer.fit_transform(X_train)\n",
    "X_val = vectorizer.transform(X_val)\n",
    "X_test = vectorizer.transform(X_test)\n",
    "print(X_train.toarray().shape, X_val.toarray().shape, X_test.toarray().shape)"
   ]
  },
  {
   "cell_type": "code",
   "execution_count": 8,
   "id": "82152add",
   "metadata": {},
   "outputs": [
    {
     "name": "stdout",
     "output_type": "stream",
     "text": [
      "10000\n"
     ]
    }
   ],
   "source": [
    "# get vocab size for \n",
    "vocab_size = len(vectorizer.vocabulary_)\n",
    "print(vocab_size)"
   ]
  },
  {
   "cell_type": "code",
   "execution_count": 9,
   "id": "18f2db09",
   "metadata": {},
   "outputs": [],
   "source": [
    "# initialize the pytorch model and other parameters for training\n",
    "device = torch.device('cuda') if torch.cuda.is_available() else torch.device('cpu')\n",
    "model = Model(vocab_size, num_labels).to(device)\n",
    "loss_function = nn.CrossEntropyLoss()\n",
    "opt = torch.optim.Adam(model.parameters(), lr = 0.1)\n",
    "EPOCHS = 5\n",
    "batch_size = 256"
   ]
  },
  {
   "cell_type": "code",
   "execution_count": 10,
   "id": "4fb5f447",
   "metadata": {},
   "outputs": [
    {
     "name": "stderr",
     "output_type": "stream",
     "text": [
      "/tmp/ipykernel_326/1432595945.py:5: UserWarning: Creating a tensor from a list of numpy.ndarrays is extremely slow. Please consider converting the list to a single numpy.ndarray with numpy.array() before converting to a tensor. (Triggered internally at ../torch/csrc/utils/tensor_new.cpp:230.)\n",
      "  self.y = torch.Tensor([np.eye(num_labels)[int(i)] for i in y])#.long()\n"
     ]
    }
   ],
   "source": [
    "# Dataset and Dataloader classes\n",
    "class NewsData(Dataset):\n",
    "    def __init__(self, x, y, num_labels=20):\n",
    "        self.x = torch.Tensor(x.toarray())\n",
    "        self.y = torch.Tensor([np.eye(num_labels)[int(i)] for i in y])#.long()\n",
    "        self.m = self.x.shape[0]\n",
    "        \n",
    "    def __getitem__(self, index):\n",
    "        return self.x[index], self.y[index]\n",
    "    \n",
    "    def __len__(self):\n",
    "        return self.m\n",
    "    \n",
    "\n",
    "dataset_train = NewsData(X_train, y_train)\n",
    "dataloader_train = DataLoader(dataset_train, batch_size=batch_size, shuffle=True)\n",
    "\n",
    "dataset_val = NewsData(X_val, y_val)\n",
    "dataloader_val = DataLoader(dataset_val, batch_size=batch_size, shuffle=True)\n",
    "\n",
    "dataset_test = NewsData(X_test, y_test)\n",
    "dataloader_test = DataLoader(dataset_test, batch_size=batch_size, shuffle=True)"
   ]
  },
  {
   "cell_type": "code",
   "execution_count": 11,
   "id": "7b87d618",
   "metadata": {},
   "outputs": [],
   "source": [
    "# Train function\n",
    "def train(dataloader, model, loss_function, optimizer, EPOCHS):\n",
    "    model.train()\n",
    "    losses = []\n",
    "    for epoch in range(EPOCHS):\n",
    "        epoch_losses = []\n",
    "        for i, (inputs, labels) in tqdm(enumerate(dataloader)):\n",
    "            inputs = inputs.to(device)      \n",
    "#             print(inputs.shape)\n",
    "            labels = labels.to(device)\n",
    "#             print(labels)\n",
    "            \n",
    "            model.zero_grad()\n",
    "            optimizer.zero_grad()\n",
    "            \n",
    "            y_hat = model.forward(inputs)\n",
    "#             print(y_hat)\n",
    "            \n",
    "            loss = loss_function(y_hat.float(), labels)\n",
    "#             print(loss)\n",
    "\n",
    "            loss.backward()\n",
    "            optimizer.step()\n",
    "            \n",
    "            losses.append(loss.cpu().detach().numpy())\n",
    "    return model, losses    "
   ]
  },
  {
   "cell_type": "code",
   "execution_count": 12,
   "id": "4279fd73",
   "metadata": {},
   "outputs": [
    {
     "name": "stderr",
     "output_type": "stream",
     "text": [
      "0it [00:00, ?it/s]/tmp/ipykernel_326/2264749033.py:20: UserWarning: Implicit dimension choice for softmax has been deprecated. Change the call to include dim=X as an argument.\n",
      "  return F.softmax(self.final(x))\n",
      "45it [00:38,  1.17it/s]\n",
      "45it [00:05,  7.82it/s]\n",
      "45it [00:05,  7.78it/s]\n",
      "45it [00:05,  7.80it/s]\n",
      "45it [00:05,  7.74it/s]\n"
     ]
    }
   ],
   "source": [
    "model, losses = train(dataloader_train, model, loss_function, opt, EPOCHS)\n",
    "torch.save(model.state_dict(), os.path.join(os.getcwd(), 'model.pth'))"
   ]
  },
  {
   "cell_type": "code",
   "execution_count": 13,
   "id": "993ba3bc",
   "metadata": {},
   "outputs": [
    {
     "data": {
      "text/plain": [
       "[<matplotlib.lines.Line2D at 0x7fd90297e3a0>]"
      ]
     },
     "execution_count": 13,
     "metadata": {},
     "output_type": "execute_result"
    },
    {
     "data": {
      "image/png": "[encoded data removed]",
      "text/plain": [
       "<Figure size 432x288 with 1 Axes>"
      ]
     },
     "metadata": {
      "needs_background": "light"
     },
     "output_type": "display_data"
    }
   ],
   "source": [
    "plt.plot(losses)"
   ]
  },
  {
   "cell_type": "code",
   "execution_count": 14,
   "id": "14a96215",
   "metadata": {},
   "outputs": [
    {
     "name": "stderr",
     "output_type": "stream",
     "text": [
      "0it [00:00, ?it/s]/tmp/ipykernel_326/2264749033.py:20: UserWarning: Implicit dimension choice for softmax has been deprecated. Change the call to include dim=X as an argument.\n",
      "  return F.softmax(self.final(x))\n",
      "15it [00:00, 20.84it/s]"
     ]
    },
    {
     "name": "stdout",
     "output_type": "stream",
     "text": [
      "0.05412576280180419\n"
     ]
    },
    {
     "name": "stderr",
     "output_type": "stream",
     "text": [
      "\n"
     ]
    }
   ],
   "source": [
    "# Validation function\n",
    "def validate(model, dataloader):\n",
    "    model.eval()\n",
    "    correct = 0\n",
    "    total = 0\n",
    "    for i, (inputs, labels) in tqdm(enumerate(dataloader)):\n",
    "        inputs = inputs.to(device)    \n",
    "        labels = labels.to(device)  \n",
    "        \n",
    "        y_hat = model.forward(inputs)\n",
    "#         print(torch.sum(torch.argmax(y_hat, dim=1) == torch.argmax(labels, dim=1)))\n",
    "#         print(torch.argmax(labels, dim=1))\n",
    "#         break\n",
    "        correct += torch.sum(torch.argmax(y_hat, dim=1) == torch.argmax(labels, dim=1))\n",
    "#         print(correct)\n",
    "        total += inputs.shape[0]\n",
    "#         print(total)\n",
    "    print(correct.item()/total)\n",
    "\n",
    "validate(model, dataloader_val)"
   ]
  },
  {
   "cell_type": "code",
   "execution_count": 15,
   "id": "dc3f9c3c",
   "metadata": {},
   "outputs": [
    {
     "name": "stderr",
     "output_type": "stream",
     "text": [
      "0it [00:00, ?it/s]/tmp/ipykernel_326/2264749033.py:20: UserWarning: Implicit dimension choice for softmax has been deprecated. Change the call to include dim=X as an argument.\n",
      "  return F.softmax(self.final(x))\n",
      "15it [00:00, 28.60it/s]"
     ]
    },
    {
     "name": "stdout",
     "output_type": "stream",
     "text": [
      "0.052519893899204244\n"
     ]
    },
    {
     "name": "stderr",
     "output_type": "stream",
     "text": [
      "\n"
     ]
    }
   ],
   "source": [
    "# Test function - can reuse validate function\n",
    "validate(model, dataloader_test)"
   ]
  }
 ],
 "metadata": {
  "kernelspec": {
   "display_name": "Python 3 (ipykernel)",
   "language": "python",
   "name": "python3"
  },
  "language_info": {
   "codemirror_mode": {
    "name": "ipython",
    "version": 3
   },
   "file_extension": ".py",
   "mimetype": "text/x-python",
   "name": "python",
   "nbconvert_exporter": "python",
   "pygments_lexer": "ipython3",
   "version": "3.8.10"
  }
 },
 "nbformat": 4,
 "nbformat_minor": 5
}
